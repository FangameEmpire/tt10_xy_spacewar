{
 "cells": [
  {
   "cell_type": "code",
   "execution_count": 1,
   "id": "2cc558e0",
   "metadata": {},
   "outputs": [],
   "source": [
    "# Import libraries\n",
    "import numpy as np\n",
    "from matplotlib import pyplot as plt\n",
    "from PIL import Image"
   ]
  },
  {
   "cell_type": "code",
   "execution_count": 38,
   "id": "f67d66b2",
   "metadata": {},
   "outputs": [],
   "source": [
    "# Emulation settings\n",
    "GRID_SIZE = (16, 24) # Y, X\n",
    "\n",
    "# Points\n",
    "POINT_A = (8, 8) # Y, X\n",
    "POINT_B = (10, 12) # Y, X\n",
    "\n",
    "# Create grid\n",
    "grid = np.zeros([GRID_SIZE[0], GRID_SIZE[1]])\n",
    "\n",
    "# Reset grid\n",
    "def reset_grid(grid):\n",
    "    grid = np.zeros([GRID_SIZE[0], GRID_SIZE[1]])\n",
    "    return grid\n",
    "\n",
    "# Plot grid in photos app\n",
    "def show_grid(grid):\n",
    "    # Convert grid to image\n",
    "    grid_view = Image.fromarray(grid)\n",
    "    \n",
    "    # Display image\n",
    "    grid_view.show()\n",
    "\n",
    "# Draw line\n",
    "def draw_line(grid, point_a, point_b):\n",
    "    for y_cur in range(0, GRID_SIZE[0]):\n",
    "        for x_cur in range(0, GRID_SIZE[1]):\n",
    "            if (((y_cur, x_cur) == point_a) or ((y_cur, x_cur) == point_b)):\n",
    "                grid[y_cur, x_cur] = 5\n",
    "            else:\n",
    "                # Store distances\n",
    "                dist_cur = GRID_SIZE[0]\n",
    "                dist_up = GRID_SIZE[0]\n",
    "                dist_down = GRID_SIZE[0]\n",
    "                \n",
    "                # Calculate distances\n",
    "                dist_up = cross_product(point_a, (y_cur - 1, x_cur), point_b)\n",
    "                dist_cur = cross_product(point_a, (y_cur - 1, x_cur), point_b)\n",
    "                dist_down = cross_product(point_a, (y_cur + 1, x_cur), point_b)\n",
    "                    \n",
    "                # Determine whether to draw\n",
    "                exact = (dist_cur == 0)\n",
    "                sign_mismatch = (np.sign(dist_up) != np.sign(dist_cur)) \\\n",
    "                             OR (np.sign(dist_up) != np.sign(dist_down)) \\\n",
    "                             OR (np.sign(dist_down) != np.sign(dist_down))\n",
    "                closest = (np.abs(dist_cur) <= np.abs(dist_up)) AND (np.abs(dist_cur) <= np.abs(dist_down))\n",
    "\n",
    "def cross_product(p1, p2, p3):\n",
    "    return (p1[1] - p3[1]) * (p3[0] - p2[0]) - (p1[0] - p3[0]) * (p3[1] - p2[1])"
   ]
  },
  {
   "cell_type": "code",
   "execution_count": 36,
   "id": "a8039828",
   "metadata": {},
   "outputs": [
    {
     "data": {
      "text/plain": [
       "<matplotlib.image.AxesImage at 0x1a696437410>"
      ]
     },
     "execution_count": 36,
     "metadata": {},
     "output_type": "execute_result"
    },
    {
     "data": {
      "image/png": "[encoded data removed]",
      "text/plain": [
       "<Figure size 640x480 with 1 Axes>"
      ]
     },
     "metadata": {},
     "output_type": "display_data"
    }
   ],
   "source": [
    "reset_grid(grid)\n",
    "draw_line(grid, POINT_A, POINT_B)\n",
    "plt.imshow(grid)\n"
   ]
  },
  {
   "cell_type": "code",
   "execution_count": 41,
   "id": "6edc08a9",
   "metadata": {},
   "outputs": [
    {
     "data": {
      "text/plain": [
       "6"
      ]
     },
     "execution_count": 41,
     "metadata": {},
     "output_type": "execute_result"
    }
   ],
   "source": [
    "cross_product((5, 1), (5, 3), (2, 6))"
   ]
  },
  {
   "cell_type": "code",
   "execution_count": null,
   "id": "ec1ed804",
   "metadata": {},
   "outputs": [],
   "source": []
  }
 ],
 "metadata": {
  "kernelspec": {
   "display_name": "Python 3 (ipykernel)",
   "language": "python",
   "name": "python3"
  },
  "language_info": {
   "codemirror_mode": {
    "name": "ipython",
    "version": 3
   },
   "file_extension": ".py",
   "mimetype": "text/x-python",
   "name": "python",
   "nbconvert_exporter": "python",
   "pygments_lexer": "ipython3",
   "version": "3.11.5"
  }
 },
 "nbformat": 4,
 "nbformat_minor": 5
}
