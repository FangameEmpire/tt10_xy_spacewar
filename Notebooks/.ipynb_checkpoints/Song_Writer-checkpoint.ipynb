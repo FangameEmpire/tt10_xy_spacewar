{
 "cells": [
  {
   "cell_type": "code",
   "execution_count": 81,
   "id": "0fbe6051",
   "metadata": {},
   "outputs": [],
   "source": [
    "# Import libraries\n",
    "import numpy as np\n",
    "from scipy.io import wavfile\n",
    "from scipy.signal import square\n",
    "from PIL import Image\n",
    "from matplotlib import pyplot as plt\n",
    "import sounddevice as sd"
   ]
  },
  {
   "cell_type": "code",
   "execution_count": 85,
   "id": "fd225474",
   "metadata": {},
   "outputs": [],
   "source": [
    "def generate_tone(frequency=440, duration=1.0, sample_rate=44100):\n",
    "    \"\"\"Generate a sine wave tone of a given frequency and duration.\"\"\"\n",
    "    t = np.linspace(0, duration, int(sample_rate * duration), endpoint=False)  # Time axis\n",
    "    wave = 0.5 * np.sin(2 * np.pi * frequency * t)  # Generate sine wave\n",
    "    return wave\n",
    "\n",
    "def generate_square_wave(frequency=440, duration=1.0, sample_rate=44100):\n",
    "    \"\"\"Generate a square wave of a given frequency and duration.\"\"\"\n",
    "    t = np.linspace(0, duration, int(sample_rate * duration), endpoint=False)  # Time axis\n",
    "    wave = 0.5 * square(2 * np.pi * frequency * t)  # Generate square wave\n",
    "    return wave"
   ]
  },
  {
   "cell_type": "code",
   "execution_count": 92,
   "id": "903bebf6",
   "metadata": {},
   "outputs": [],
   "source": [
    "# Load notes image\n",
    "NOTES_PATH = \"Notes.png\"\n",
    "Notes_Image = Image.open(NOTES_PATH).convert(\"L\")\n",
    "Notes_2D = np.array(Notes_Image)\n",
    "\n",
    "# Find zeros\n",
    "Notes_1D = np.zeros(128)\n",
    "for i in range(0, 128):\n",
    "    for j in range(0, 8):\n",
    "        if not Notes_2D[j][i]:\n",
    "            Notes_1D[i] = j\n",
    "\n",
    "# Build test music\n",
    "Note_Duration = 0.0675 #Seconds\n",
    "Rest_Duration = 0.025\n",
    "Sample_Rate=44100\n",
    "Music_Out = np.zeros(0)\n",
    "Note_Lookup = [600, 575, 550, 500, 450, 400, 350, 300]\n",
    "for i in range(0, 128):\n",
    "    Music_Out = np.append(Music_Out, generate_square_wave(Note_Lookup[int(Notes_1D[i])], Note_Duration, Sample_Rate))\n",
    "    Music_Out = np.append(Music_Out, generate_square_wave(0, Rest_Duration, Sample_Rate))"
   ]
  },
  {
   "cell_type": "code",
   "execution_count": 93,
   "id": "a91cd562",
   "metadata": {},
   "outputs": [],
   "source": [
    "# Play music\n",
    "sd.play(Music_Out, samplerate=44100)"
   ]
  },
  {
   "cell_type": "code",
   "execution_count": null,
   "id": "e76a9639",
   "metadata": {},
   "outputs": [],
   "source": []
  },
  {
   "cell_type": "code",
   "execution_count": null,
   "id": "17905678",
   "metadata": {},
   "outputs": [],
   "source": []
  }
 ],
 "metadata": {
  "kernelspec": {
   "display_name": "Python 3 (ipykernel)",
   "language": "python",
   "name": "python3"
  },
  "language_info": {
   "codemirror_mode": {
    "name": "ipython",
    "version": 3
   },
   "file_extension": ".py",
   "mimetype": "text/x-python",
   "name": "python",
   "nbconvert_exporter": "python",
   "pygments_lexer": "ipython3",
   "version": "3.11.5"
  }
 },
 "nbformat": 4,
 "nbformat_minor": 5
}
