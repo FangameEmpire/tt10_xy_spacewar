{
 "cells": [
  {
   "cell_type": "code",
   "execution_count": 6,
   "id": "8bad74fa",
   "metadata": {},
   "outputs": [],
   "source": [
    "# Import libraries\n",
    "import numpy as np\n",
    "from scipy import spectrogram\n",
    "from scipy.io import wavfile\n",
    "from matplotlib import pyplot as plt"
   ]
  },
  {
   "cell_type": "code",
   "execution_count": null,
   "id": "e468a236",
   "metadata": {},
   "outputs": [],
   "source": [
    "# Plot spectrogram of .wav file\n",
    "def plot_wav"
   ]
  },
  {
   "cell_type": "code",
   "execution_count": null,
   "id": "9c48aee7",
   "metadata": {},
   "outputs": [],
   "source": []
  }
 ],
 "metadata": {
  "kernelspec": {
   "display_name": "Python 3 (ipykernel)",
   "language": "python",
   "name": "python3"
  },
  "language_info": {
   "codemirror_mode": {
    "name": "ipython",
    "version": 3
   },
   "file_extension": ".py",
   "mimetype": "text/x-python",
   "name": "python",
   "nbconvert_exporter": "python",
   "pygments_lexer": "ipython3",
   "version": "3.9.7"
  }
 },
 "nbformat": 4,
 "nbformat_minor": 5
}
