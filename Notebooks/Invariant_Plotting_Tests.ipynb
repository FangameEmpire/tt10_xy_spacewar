{
 "cells": [
  {
   "cell_type": "code",
   "execution_count": 1,
   "id": "027db3c1",
   "metadata": {},
   "outputs": [
    {
     "name": "stdout",
     "output_type": "stream",
     "text": [
      "Requirement already satisfied: numpy==1.26.4 in c:\\users\\nicklaus\\anaconda3\\lib\\site-packages (1.26.4)\n"
     ]
    }
   ],
   "source": [
    "# Import libraries\n",
    "!pip install numpy==1.26.4\n",
    "import numpy as np\n",
    "from matplotlib import pyplot as plt\n",
    "from PIL import Image\n",
    "import time"
   ]
  },
  {
   "cell_type": "code",
   "execution_count": 4,
   "id": "0837471a",
   "metadata": {},
   "outputs": [],
   "source": [
    "# Emulation settings\n",
    "GRID_SIZE = (32, 32) # Y, X\n",
    "\n",
    "# Points\n",
    "POINT_A = (15, 16) # Y, X\n",
    "POINT_B = (15, 23) # Y, X\n",
    "\n",
    "# Create grid\n",
    "grid = np.zeros([GRID_SIZE[0], GRID_SIZE[1]])\n",
    "\n",
    "# Reset grid\n",
    "def reset_grid(grid):\n",
    "    grid = np.zeros([GRID_SIZE[0], GRID_SIZE[1]])\n",
    "    return grid\n",
    "\n",
    "# Plot grid in photos app\n",
    "def show_grid(grid):\n",
    "    # Convert grid to image\n",
    "    grid_view = Image.fromarray(grid)\n",
    "    \n",
    "    # Display image\n",
    "    grid_view.show()\n",
    "\n",
    "# Draw line\n",
    "def draw_line(grid, point_a, point_b):\n",
    "    for y_cur in range(0, GRID_SIZE[0]):\n",
    "        for x_cur in range(0, GRID_SIZE[1]):\n",
    "            if (((y_cur, x_cur) == point_a) or ((y_cur, x_cur) == point_b)):\n",
    "                grid[y_cur, x_cur] = 5\n",
    "            else:\n",
    "                # Store distances\n",
    "                dist_cur = GRID_SIZE[0]\n",
    "                dist_up_left = GRID_SIZE[0]\n",
    "                dist_down_right = GRID_SIZE[0]\n",
    "                \n",
    "                # Calculate distances\n",
    "                dist_cur = cross_product_length(point_a, (y_cur, x_cur), point_b)\n",
    "                    \n",
    "                # Re-use the up-down checks for left-right\n",
    "                if (steep(point_a, point_b)):\n",
    "                    dist_up_left = cross_product_length(point_a, (y_cur, x_cur - 1), point_b)\n",
    "                    dist_down_right = cross_product_length(point_a, (y_cur, x_cur + 1), point_b)\n",
    "                else:\n",
    "                    dist_up_left = cross_product_length(point_a, (y_cur - 1, x_cur), point_b)\n",
    "                    dist_down_right = cross_product_length(point_a, (y_cur + 1, x_cur), point_b)\n",
    "                    \n",
    "                # Determine if this point is the closest of the three\n",
    "                sign_mismatch = check_sign_mismatch(dist_up_left, dist_cur, dist_down_right)\n",
    "                # Need one < and one <= to prevent double draws on perfect midpoints\n",
    "                #  Two <= will double draw, two < will not draw\n",
    "                closest = (np.abs(dist_cur) < np.abs(dist_up_left)) and (np.abs(dist_cur) <= np.abs(dist_down_right))\n",
    "                # Pixel is perfectly on the line\n",
    "                exact = (dist_cur == 0)\n",
    "                \n",
    "                # exact OR best in column / row\n",
    "                final = exact or (sign_mismatch and closest)\n",
    "                \n",
    "                # Draw if needed\n",
    "                if final and (between(point_a, (y_cur, x_cur), point_b)):\n",
    "                    grid[y_cur, x_cur] = 4\n",
    "\n",
    "# The signed length of the cross product\n",
    "# https://en.wikipedia.org/wiki/Cross_product#Computational_geometry\n",
    "def cross_product_length(p1, p2, p3):\n",
    "    return (p1[1] - p3[1]) * (p3[0] - p2[0]) - (p1[0] - p3[0]) * (p3[1] - p2[1])\n",
    "\n",
    "# Determines if p2 is inside the X and Y bounds set by p1 and p3\n",
    "def between(p1, p2, p3):\n",
    "    return (((p1[0] <= p2[0]) and (p2[0] <=p3[0])) or ((p1[0] >= p2[0]) and (p2[0] >= p3[0]))) \\\n",
    "       and (((p1[1] <= p2[1]) and (p2[1] <=p3[1])) or ((p1[1] >= p2[1]) and (p2[1] >= p3[1])))\n",
    "\n",
    "# Converts 0 to 1, passes anything else. Two's comp has a positive zero\n",
    "def sign_zero_pos(sign):\n",
    "    if (sign == 0): return 1\n",
    "    return sign\n",
    "\n",
    "# Determines if there is a mix of positive and negative in the input integers\n",
    "def check_sign_mismatch(int1, int2, int3):\n",
    "    return (sign_zero_pos(np.sign(int1)) != sign_zero_pos(np.sign(int2))) \\\n",
    "        or (sign_zero_pos(np.sign(int1)) != sign_zero_pos(np.sign(int3))) \\\n",
    "        or (sign_zero_pos(np.sign(int2)) != sign_zero_pos(np.sign(int3)))\n",
    "\n",
    "# Determines if the slope is greater than 1\n",
    "def steep(point_a, point_b):\n",
    "    return (np.abs(point_a[0] - point_b[0])) > (np.abs(point_a[1] - point_b[1]))\n",
    "\n",
    "# Do a given number of random plots\n",
    "def do_random_draws(runs):\n",
    "    # Close old figures\n",
    "    plt.close(\"all\")\n",
    "    \n",
    "    # Plot random lines\n",
    "    for i in range(0, runs):\n",
    "        # Choose random points\n",
    "        rand_a = (np.random.randint(0, GRID_SIZE[0]), np.random.randint(0, GRID_SIZE[1]))\n",
    "        rand_b = (np.random.randint(0, GRID_SIZE[0]), np.random.randint(0, GRID_SIZE[1]))\n",
    "        \n",
    "        # Plot the line\n",
    "        rand_grid = np.zeros([GRID_SIZE[0], GRID_SIZE[1]])\n",
    "        draw_line(rand_grid, rand_a, rand_b)\n",
    "        plt.figure()\n",
    "        plt.imshow(rand_grid)\n",
    "\n",
    "# Do known edge cases\n",
    "def do_edge_case_draws():\n",
    "    # Close old figures\n",
    "    plt.close(\"all\")\n",
    "    \n",
    "    # Create local grid\n",
    "    edge_grid = np.zeros([GRID_SIZE[0], GRID_SIZE[1]])\n",
    "    \n",
    "    # Points\n",
    "    draw_line(edge_grid, (0, 0), (0, 0))\n",
    "    plt.figure()\n",
    "    plt.imshow(edge_grid)\n",
    "    \n",
    "    edge_grid = reset_grid(edge_grid)\n",
    "    draw_line(edge_grid, (int(GRID_SIZE[1] * 0.3), int(GRID_SIZE[1] * 0.6)), \\\n",
    "                         (int(GRID_SIZE[1] * 0.3), int(GRID_SIZE[1] * 0.6)))\n",
    "    plt.figure()\n",
    "    plt.imshow(edge_grid)\n",
    "    \n",
    "    # Edges\n",
    "    edge_grid = reset_grid(edge_grid)\n",
    "    draw_line(edge_grid, (0, 0), (GRID_SIZE[0] - 1, 0))\n",
    "    plt.figure()\n",
    "    plt.imshow(edge_grid)\n",
    "    \n",
    "    edge_grid = reset_grid(edge_grid)\n",
    "    draw_line(edge_grid, (0, GRID_SIZE[1] - 1), (0, 0))\n",
    "    plt.figure()\n",
    "    plt.imshow(edge_grid)\n",
    "    \n",
    "    edge_grid = reset_grid(edge_grid)\n",
    "    draw_line(edge_grid, (0, GRID_SIZE[1] - 1), (GRID_SIZE[0] - 1, GRID_SIZE[1] - 1))\n",
    "    plt.figure()\n",
    "    plt.imshow(edge_grid)\n",
    "    \n",
    "    edge_grid = reset_grid(edge_grid)\n",
    "    draw_line(edge_grid, (GRID_SIZE[0] - 1, 0), (GRID_SIZE[0] - 1, GRID_SIZE[1] - 1))\n",
    "    plt.figure()\n",
    "    plt.imshow(edge_grid)\n",
    "    \n",
    "    # Slopes\n",
    "    edge_grid = reset_grid(edge_grid)\n",
    "    draw_line(edge_grid, (int(GRID_SIZE[0] * 0.2), int(GRID_SIZE[1] * 0.5)), \\\n",
    "                         (int(GRID_SIZE[0] * 0.8), int(GRID_SIZE[1] * 0.5)))\n",
    "    plt.figure()\n",
    "    plt.imshow(edge_grid)\n",
    "    \n",
    "    edge_grid = reset_grid(edge_grid)\n",
    "    draw_line(edge_grid, (int(GRID_SIZE[0] * 0.5), int(GRID_SIZE[1] * 0.2)), \\\n",
    "                         (int(GRID_SIZE[0] * 0.5), int(GRID_SIZE[1] * 0.8)))\n",
    "    plt.figure()\n",
    "    plt.imshow(edge_grid)\n",
    "    \n",
    "    edge_grid = reset_grid(edge_grid)\n",
    "    draw_line(edge_grid, (int(GRID_SIZE[0] * 0.2), int(GRID_SIZE[1] * 0.2)), \\\n",
    "                         (int(GRID_SIZE[0] * 0.8), int(GRID_SIZE[1] * 0.5)))\n",
    "    plt.figure()\n",
    "    plt.imshow(edge_grid)\n",
    "    \n",
    "    edge_grid = reset_grid(edge_grid)\n",
    "    draw_line(edge_grid, (int(GRID_SIZE[0] * 0.8), int(GRID_SIZE[1] * 0.2)), \\\n",
    "                         (int(GRID_SIZE[0] * 0.2), int(GRID_SIZE[1] * 0.8)))\n",
    "    plt.figure()\n",
    "    plt.imshow(edge_grid)"
   ]
  },
  {
   "cell_type": "code",
   "execution_count": 5,
   "id": "59a6034f",
   "metadata": {},
   "outputs": [
    {
     "data": {
      "image/png": "[encoded data removed]",
      "text/plain": [
       "<Figure size 432x288 with 1 Axes>"
      ]
     },
     "metadata": {
      "needs_background": "light"
     },
     "output_type": "display_data"
    },
    {
     "data": {
      "image/png": "[encoded data removed]",
      "text/plain": [
       "<Figure size 432x288 with 1 Axes>"
      ]
     },
     "metadata": {
      "needs_background": "light"
     },
     "output_type": "display_data"
    },
    {
     "data": {
      "image/png": "[encoded data removed]",
      "text/plain": [
       "<Figure size 432x288 with 1 Axes>"
      ]
     },
     "metadata": {
      "needs_background": "light"
     },
     "output_type": "display_data"
    },
    {
     "data": {
      "image/png": "[encoded data removed]",
      "text/plain": [
       "<Figure size 432x288 with 1 Axes>"
      ]
     },
     "metadata": {
      "needs_background": "light"
     },
     "output_type": "display_data"
    },
    {
     "data": {
      "image/png": "[encoded data removed]",
      "text/plain": [
       "<Figure size 432x288 with 1 Axes>"
      ]
     },
     "metadata": {
      "needs_background": "light"
     },
     "output_type": "display_data"
    },
    {
     "data": {
      "image/png": "[encoded data removed]",
      "text/plain": [
       "<Figure size 432x288 with 1 Axes>"
      ]
     },
     "metadata": {
      "needs_background": "light"
     },
     "output_type": "display_data"
    },
    {
     "data": {
      "image/png": "[encoded data removed]",
      "text/plain": [
       "<Figure size 432x288 with 1 Axes>"
      ]
     },
     "metadata": {
      "needs_background": "light"
     },
     "output_type": "display_data"
    },
    {
     "data": {
      "image/png": "[encoded data removed]",
      "text/plain": [
       "<Figure size 432x288 with 1 Axes>"
      ]
     },
     "metadata": {
      "needs_background": "light"
     },
     "output_type": "display_data"
    },
    {
     "data": {
      "image/png": "[encoded data removed]",
      "text/plain": [
       "<Figure size 432x288 with 1 Axes>"
      ]
     },
     "metadata": {
      "needs_background": "light"
     },
     "output_type": "display_data"
    },
    {
     "data": {
      "image/png": "[encoded data removed]",
      "text/plain": [
       "<Figure size 432x288 with 1 Axes>"
      ]
     },
     "metadata": {
      "needs_background": "light"
     },
     "output_type": "display_data"
    }
   ],
   "source": [
    "do_edge_case_draws()"
   ]
  },
  {
   "cell_type": "code",
   "execution_count": 6,
   "id": "d1f960ec",
   "metadata": {},
   "outputs": [
    {
     "data": {
      "image/png": "[encoded data removed]",
      "text/plain": [
       "<Figure size 432x288 with 1 Axes>"
      ]
     },
     "metadata": {
      "needs_background": "light"
     },
     "output_type": "display_data"
    },
    {
     "data": {
      "image/png": "[encoded data removed]",
      "text/plain": [
       "<Figure size 432x288 with 1 Axes>"
      ]
     },
     "metadata": {
      "needs_background": "light"
     },
     "output_type": "display_data"
    },
    {
     "data": {
      "image/png": "[encoded data removed]",
      "text/plain": [
       "<Figure size 432x288 with 1 Axes>"
      ]
     },
     "metadata": {
      "needs_background": "light"
     },
     "output_type": "display_data"
    },
    {
     "data": {
      "image/png": "[encoded data removed]",
      "text/plain": [
       "<Figure size 432x288 with 1 Axes>"
      ]
     },
     "metadata": {
      "needs_background": "light"
     },
     "output_type": "display_data"
    },
    {
     "data": {
      "image/png": "[encoded data removed]",
      "text/plain": [
       "<Figure size 432x288 with 1 Axes>"
      ]
     },
     "metadata": {
      "needs_background": "light"
     },
     "output_type": "display_data"
    },
    {
     "data": {
      "image/png": "[encoded data removed]",
      "text/plain": [
       "<Figure size 432x288 with 1 Axes>"
      ]
     },
     "metadata": {
      "needs_background": "light"
     },
     "output_type": "display_data"
    },
    {
     "data": {
      "image/png": "[encoded data removed]",
      "text/plain": [
       "<Figure size 432x288 with 1 Axes>"
      ]
     },
     "metadata": {
      "needs_background": "light"
     },
     "output_type": "display_data"
    },
    {
     "data": {
      "image/png": "[encoded data removed]",
      "text/plain": [
       "<Figure size 432x288 with 1 Axes>"
      ]
     },
     "metadata": {
      "needs_background": "light"
     },
     "output_type": "display_data"
    },
    {
     "data": {
      "image/png": "[encoded data removed]",
      "text/plain": [
       "<Figure size 432x288 with 1 Axes>"
      ]
     },
     "metadata": {
      "needs_background": "light"
     },
     "output_type": "display_data"
    },
    {
     "data": {
      "image/png": "[encoded data removed]",
      "text/plain": [
       "<Figure size 432x288 with 1 Axes>"
      ]
     },
     "metadata": {
      "needs_background": "light"
     },
     "output_type": "display_data"
    }
   ],
   "source": [
    "do_random_draws(10)"
   ]
  },
  {
   "cell_type": "code",
   "execution_count": null,
   "id": "41fdd1f8",
   "metadata": {},
   "outputs": [],
   "source": [
    "# User-targeted line\n",
    "reset_grid(grid)\n",
    "draw_line(grid, POINT_A, POINT_B)\n",
    "plt.imshow(grid)"
   ]
  },
  {
   "cell_type": "code",
   "execution_count": null,
   "id": "8f7d277e",
   "metadata": {},
   "outputs": [],
   "source": []
  },
  {
   "cell_type": "code",
   "execution_count": null,
   "id": "905e5599",
   "metadata": {},
   "outputs": [],
   "source": []
  },
  {
   "cell_type": "code",
   "execution_count": null,
   "id": "dbd3893d",
   "metadata": {},
   "outputs": [],
   "source": []
  }
 ],
 "metadata": {
  "kernelspec": {
   "display_name": "Python 3 (ipykernel)",
   "language": "python",
   "name": "python3"
  },
  "language_info": {
   "codemirror_mode": {
    "name": "ipython",
    "version": 3
   },
   "file_extension": ".py",
   "mimetype": "text/x-python",
   "name": "python",
   "nbconvert_exporter": "python",
   "pygments_lexer": "ipython3",
   "version": "3.9.7"
  }
 },
 "nbformat": 4,
 "nbformat_minor": 5
}
