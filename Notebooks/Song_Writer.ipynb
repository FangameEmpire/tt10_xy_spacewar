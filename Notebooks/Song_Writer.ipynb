{
 "cells": [
  {
   "cell_type": "code",
   "execution_count": 1,
   "id": "0ad228c5",
   "metadata": {},
   "outputs": [],
   "source": [
    "# Import libraries\n",
    "import numpy as np\n",
    "from scipy.io import wavfile\n",
    "from scipy.signal import square\n",
    "from PIL import Image\n",
    "from matplotlib import pyplot as plt\n",
    "import sounddevice as sd"
   ]
  },
  {
   "cell_type": "code",
   "execution_count": 2,
   "id": "b7648c4a",
   "metadata": {},
   "outputs": [],
   "source": [
    "def generate_tone(frequency=440, duration=1.0, sample_rate=44100):\n",
    "    \"\"\"Generate a sine wave tone of a given frequency and duration.\"\"\"\n",
    "    t = np.linspace(0, duration, int(sample_rate * duration), endpoint=False)  # Time axis\n",
    "    wave = 0.5 * np.sin(2 * np.pi * frequency * t)  # Generate sine wave\n",
    "    return wave\n",
    "\n",
    "def generate_square_wave(frequency=440, duration=1.0, sample_rate=44100):\n",
    "    \"\"\"Generate a square wave of a given frequency and duration.\"\"\"\n",
    "    t = np.linspace(0, duration, int(sample_rate * duration), endpoint=False)  # Time axis\n",
    "    wave = 0.5 * square(2 * np.pi * frequency * t)  # Generate square wave\n",
    "    return wave"
   ]
  },
  {
   "cell_type": "code",
   "execution_count": 3,
   "id": "ec439496",
   "metadata": {},
   "outputs": [],
   "source": [
    "# Load notes image\n",
    "NOTES_PATH = \"Notes.png\"\n",
    "Notes_Image = Image.open(NOTES_PATH).convert(\"L\")\n",
    "Notes_2D = np.array(Notes_Image)\n",
    "\n",
    "# Find zeros\n",
    "Notes_1D = np.zeros(128)\n",
    "for i in range(0, 128):\n",
    "    for j in range(0, 8):\n",
    "        if not Notes_2D[j][i]:\n",
    "            Notes_1D[i] = j\n",
    "\n",
    "# Build test music\n",
    "Note_Duration = 0.0675 #Seconds\n",
    "Rest_Duration = 0.025\n",
    "Sample_Rate=44100\n",
    "Music_Out = np.zeros(0)\n",
    "Note_Lookup = [600, 575, 550, 500, 450, 400, 350, 300]\n",
    "for i in range(0, 128):\n",
    "    Music_Out = np.append(Music_Out, generate_square_wave(Note_Lookup[int(Notes_1D[i])], Note_Duration, Sample_Rate))\n",
    "    Music_Out = np.append(Music_Out, generate_square_wave(0, Rest_Duration, Sample_Rate))"
   ]
  },
  {
   "cell_type": "code",
   "execution_count": 4,
   "id": "154c5215",
   "metadata": {},
   "outputs": [],
   "source": [
    "# Play music\n",
    "sd.play(Music_Out, samplerate=44100)"
   ]
  },
  {
   "cell_type": "code",
   "execution_count": 5,
   "id": "787fc8bc",
   "metadata": {},
   "outputs": [
    {
     "name": "stdout",
     "output_type": "stream",
     "text": [
      "assign do_note[0] = (current_position == 7'd70) || (current_position == 7'd71) || (current_position == 7'd86) || (current_position == 7'd102) || (current_position == 7'd103);\n",
      "assign do_note[1] = (current_position == 7'd69) || (current_position == 7'd76) || (current_position == 7'd77) || (current_position == 7'd85) || (current_position == 7'd101) || (current_position == 7'd108) || (current_position == 7'd109) || (current_position == 7'd126) || (current_position == 7'd127);\n",
      "assign do_note[2] = (current_position == 7'd6) || (current_position == 7'd7) || (current_position == 7'd22) || (current_position == 7'd38) || (current_position == 7'd39) || (current_position == 7'd68) || (current_position == 7'd75) || (current_position == 7'd78) || (current_position == 7'd79) || (current_position == 7'd84) || (current_position == 7'd100) || (current_position == 7'd107) || (current_position == 7'd110) || (current_position == 7'd111) || (current_position == 7'd125);\n",
      "assign do_note[3] = (current_position == 7'd5) || (current_position == 7'd12) || (current_position == 7'd13) || (current_position == 7'd21) || (current_position == 7'd37) || (current_position == 7'd44) || (current_position == 7'd45) || (current_position == 7'd62) || (current_position == 7'd63) || (current_position == 7'd74) || (current_position == 7'd80) || (current_position == 7'd87) || (current_position == 7'd90) || (current_position == 7'd96) || (current_position == 7'd106) || (current_position == 7'd112) || (current_position == 7'd118) || (current_position == 7'd122) || (current_position == 7'd124);\n",
      "assign do_note[4] = (current_position == 7'd4) || (current_position == 7'd11) || (current_position == 7'd14) || (current_position == 7'd15) || (current_position == 7'd20) || (current_position == 7'd36) || (current_position == 7'd43) || (current_position == 7'd46) || (current_position == 7'd47) || (current_position == 7'd61) || (current_position == 7'd65) || (current_position == 7'd66) || (current_position == 7'd67) || (current_position == 7'd72) || (current_position == 7'd73) || (current_position == 7'd81) || (current_position == 7'd82) || (current_position == 7'd83) || (current_position == 7'd88) || (current_position == 7'd89) || (current_position == 7'd91) || (current_position == 7'd92) || (current_position == 7'd93) || (current_position == 7'd94) || (current_position == 7'd95) || (current_position == 7'd97) || (current_position == 7'd98) || (current_position == 7'd99) || (current_position == 7'd104) || (current_position == 7'd105) || (current_position == 7'd113) || (current_position == 7'd116) || (current_position == 7'd117) || (current_position == 7'd119) || (current_position == 7'd120) || (current_position == 7'd121) || (current_position == 7'd123);\n",
      "assign do_note[5] = (current_position == 7'd0) || (current_position == 7'd10) || (current_position == 7'd16) || (current_position == 7'd23) || (current_position == 7'd26) || (current_position == 7'd32) || (current_position == 7'd42) || (current_position == 7'd48) || (current_position == 7'd53) || (current_position == 7'd58) || (current_position == 7'd60) || (current_position == 7'd64) || (current_position == 7'd114) || (current_position == 7'd115);\n",
      "assign do_note[6] = (current_position == 7'd1) || (current_position == 7'd2) || (current_position == 7'd3) || (current_position == 7'd8) || (current_position == 7'd9) || (current_position == 7'd17) || (current_position == 7'd18) || (current_position == 7'd19) || (current_position == 7'd24) || (current_position == 7'd25) || (current_position == 7'd27) || (current_position == 7'd28) || (current_position == 7'd29) || (current_position == 7'd30) || (current_position == 7'd31) || (current_position == 7'd33) || (current_position == 7'd34) || (current_position == 7'd35) || (current_position == 7'd40) || (current_position == 7'd41) || (current_position == 7'd49) || (current_position == 7'd52) || (current_position == 7'd54) || (current_position == 7'd55) || (current_position == 7'd56) || (current_position == 7'd57) || (current_position == 7'd59);\n",
      "assign do_note[7] = (current_position == 7'd50) || (current_position == 7'd51);\n"
     ]
    }
   ],
   "source": [
    "# Print note combo logic\n",
    "for i in range(0, 8):\n",
    "    print(\"assign do_note[\", i, \"] = \", sep=\"\", end=\"\")\n",
    "    first_term = True;\n",
    "    for j in range(0, 128):\n",
    "        if (Notes_1D[j] == i):\n",
    "            if not first_term:\n",
    "                print(\" || \", sep=\"\", end=\"\")\n",
    "            print(\"(current_position == 7'd\", j, \")\", sep=\"\", end=\"\")\n",
    "            first_term = False;\n",
    "    print(\";\", sep=\"\", end=\"\\n\")"
   ]
  },
  {
   "cell_type": "code",
   "execution_count": null,
   "id": "74cc8e69",
   "metadata": {},
   "outputs": [],
   "source": []
  }
 ],
 "metadata": {
  "kernelspec": {
   "display_name": "Python 3 (ipykernel)",
   "language": "python",
   "name": "python3"
  },
  "language_info": {
   "codemirror_mode": {
    "name": "ipython",
    "version": 3
   },
   "file_extension": ".py",
   "mimetype": "text/x-python",
   "name": "python",
   "nbconvert_exporter": "python",
   "pygments_lexer": "ipython3",
   "version": "3.11.5"
  }
 },
 "nbformat": 4,
 "nbformat_minor": 5
}
