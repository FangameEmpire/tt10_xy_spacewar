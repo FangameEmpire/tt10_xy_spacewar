{
 "cells": [
  {
   "cell_type": "code",
   "execution_count": 6,
   "id": "2350315f",
   "metadata": {},
   "outputs": [],
   "source": [
    "# Import libraries\n",
    "import numpy as np\n",
    "from scipy import spectrogram\n",
    "from scipy.io import wavfile\n",
    "from matplotlib import pyplot as plt"
   ]
  },
  {
   "cell_type": "code",
   "execution_count": 10,
   "id": "a429aa18",
   "metadata": {},
   "outputs": [],
   "source": [
    "# Plot spectrogram of .wav file\n",
    "def plot_wav (wav_path):\n",
    "    samplingFreq, data = wavfile.read(wav_path)\n",
    "    "
   ]
  },
  {
   "cell_type": "code",
   "execution_count": 11,
   "id": "35f56f0f",
   "metadata": {},
   "outputs": [
    {
     "name": "stderr",
     "output_type": "stream",
     "text": [
      "C:\\Users\\Nicklaus\\AppData\\Local\\Temp/ipykernel_9040/2948723409.py:3: WavFileWarning: Chunk (non-data) not understood, skipping it.\n",
      "  samplingFreq, data = wavfile.read(wav_path)\n"
     ]
    }
   ],
   "source": [
    "# Plot files\n",
    "PATH_INTRO = \"Fast Fight.wav\"\n",
    "PATH_LOOP = \"Fast Fight loop.wav\"\n",
    "\n",
    "plot_wav(PATH_INTRO)"
   ]
  },
  {
   "cell_type": "code",
   "execution_count": 26,
   "id": "8f398a2c",
   "metadata": {},
   "outputs": [
    {
     "name": "stderr",
     "output_type": "stream",
     "text": [
      "C:\\Users\\Nicklaus\\AppData\\Local\\Temp/ipykernel_9040/1946026995.py:9: WavFileWarning: Chunk (non-data) not understood, skipping it.\n",
      "  sample_rate, audio_data = wav.read(wav_file)\n"
     ]
    },
    {
     "name": "stdout",
     "output_type": "stream",
     "text": [
      "Spectrogram saved as spectrogram.png\n"
     ]
    }
   ],
   "source": [
    "import numpy as np\n",
    "import matplotlib.pyplot as plt\n",
    "import scipy.io.wavfile as wav\n",
    "from scipy.signal import spectrogram\n",
    "\n",
    "# Function to plot and save spectrogram\n",
    "def save_spectrogram(wav_file, output_image=\"spectrogram.png\"):\n",
    "    # Read the .wav file\n",
    "    sample_rate, audio_data = wav.read(wav_file)\n",
    "    \n",
    "    # If stereo, convert to mono by averaging the channels\n",
    "    if len(audio_data.shape) > 1:\n",
    "        audio_data = np.mean(audio_data, axis=1)\n",
    "\n",
    "    # Compute the spectrogram\n",
    "    f, t, Sxx = spectrogram(audio_data, fs=sample_rate)\n",
    "\n",
    "    # Plot the spectrogram\n",
    "    plt.figure(figsize=(10, 6))\n",
    "    plt.pcolormesh(t, f, 10 * np.log10(Sxx), shading='gouraud')\n",
    "    plt.colorbar(label='Power/Frequency (dB/Hz)')\n",
    "    plt.ylabel('Frequency [Hz]')\n",
    "    plt.xlabel('Time [s]')\n",
    "    plt.title('Spectrogram of ' + wav_file)\n",
    "    \n",
    "    # Save the spectrogram as an image\n",
    "    plt.savefig(output_image, dpi=300, bbox_inches='tight')\n",
    "    plt.close()\n",
    "    print(f\"Spectrogram saved as {output_image}\")\n",
    "\n",
    "# Example usage\n",
    "wav_file = \"Fast Fight.wav\"  # Change this to your .wav file path\n",
    "save_spectrogram(wav_file, \"spectrogram.png\")\n"
   ]
  },
  {
   "cell_type": "code",
   "execution_count": 15,
   "id": "2b6c1ae8",
   "metadata": {},
   "outputs": [
    {
     "name": "stderr",
     "output_type": "stream",
     "text": [
      "C:\\Users\\Nicklaus\\AppData\\Local\\Temp/ipykernel_9040/1141703156.py:9: WavFileWarning: Chunk (non-data) not understood, skipping it.\n",
      "  sample_rate, audio_data = wav.read(wav_file)\n"
     ]
    },
    {
     "name": "stdout",
     "output_type": "stream",
     "text": [
      "Spectrogram data saved as spectrogram_data.png\n"
     ]
    }
   ],
   "source": [
    "import numpy as np\n",
    "import scipy.io.wavfile as wav\n",
    "from scipy.signal import spectrogram\n",
    "from PIL import Image\n",
    "\n",
    "# Function to save spectrogram data as an image\n",
    "def save_spectrogram_data_as_image(wav_file, output_image=\"spectrogram_data.png\"):\n",
    "    # Read the .wav file\n",
    "    sample_rate, audio_data = wav.read(wav_file)\n",
    "    \n",
    "    # If stereo, convert to mono by averaging the channels\n",
    "    if len(audio_data.shape) > 1:\n",
    "        audio_data = np.mean(audio_data, axis=1)\n",
    "\n",
    "    # Compute the spectrogram\n",
    "    f, t, Sxx = spectrogram(audio_data, fs=sample_rate)\n",
    "\n",
    "    # Normalize the spectrogram data to 0-255 (grayscale)\n",
    "    Sxx = 10 * np.log10(Sxx + 1e-10)  # Convert power to dB and avoid log(0)\n",
    "    Sxx = (Sxx - Sxx.min()) / (Sxx.max() - Sxx.min()) * 255  # Normalize to 0-255\n",
    "    Sxx = Sxx.astype(np.uint8)\n",
    "\n",
    "    # Save as an image\n",
    "    image = Image.fromarray(Sxx)\n",
    "    image.save(output_image)\n",
    "    print(f\"Spectrogram data saved as {output_image}\")\n",
    "\n",
    "# Example usage\n",
    "wav_file = \"Fast Fight.wav\"  # Change this to your .wav file path\n",
    "save_spectrogram_data_as_image(wav_file, \"spectrogram_data.png\")\n"
   ]
  },
  {
   "cell_type": "code",
   "execution_count": null,
   "id": "d2ffbd05",
   "metadata": {},
   "outputs": [],
   "source": []
  },
  {
   "cell_type": "code",
   "execution_count": null,
   "id": "e560909d",
   "metadata": {},
   "outputs": [],
   "source": []
  }
 ],
 "metadata": {
  "kernelspec": {
   "display_name": "Python 3 (ipykernel)",
   "language": "python",
   "name": "python3"
  },
  "language_info": {
   "codemirror_mode": {
    "name": "ipython",
    "version": 3
   },
   "file_extension": ".py",
   "mimetype": "text/x-python",
   "name": "python",
   "nbconvert_exporter": "python",
   "pygments_lexer": "ipython3",
   "version": "3.9.7"
  }
 },
 "nbformat": 4,
 "nbformat_minor": 5
}
